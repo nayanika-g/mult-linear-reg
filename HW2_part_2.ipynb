{
 "cells": [
  {
   "cell_type": "markdown",
   "metadata": {},
   "source": [
    "# Homework 2 Part 2"
   ]
  },
  {
   "cell_type": "code",
   "execution_count": 2,
   "metadata": {},
   "outputs": [],
   "source": [
    "import pandas as pd\n",
    "import numpy as np\n",
    "import matplotlib.pyplot as plt\n",
    "%matplotlib inline"
   ]
  },
  {
   "cell_type": "markdown",
   "metadata": {},
   "source": [
    "#### Q1 (2 points)"
   ]
  },
  {
   "cell_type": "markdown",
   "metadata": {},
   "source": [
    "a. Implement a function that takes in the *train.csv* dataset and returns a cleaned dataset without outliers and NAs."
   ]
  },
  {
   "cell_type": "code",
   "execution_count": 8,
   "metadata": {},
   "outputs": [],
   "source": [
    "train = pd.read_csv('/Users/gracegupta/Desktop/grace_gupta_HW1/train.csv')\n",
    "\n",
    "def preprocessing_pipeline(train):\n",
    "    ## Your code goes here\n",
    "    \n",
    "    #get rid of NAs\n",
    "    train = train.dropna()\n",
    "    \n",
    "    #get rid of outliers\n",
    "    for X in train:\n",
    "        mu = np.mean(train[X])\n",
    "        std = np.std(train[X])\n",
    "        normalized_data = (train[X]-mu)/std\n",
    "        indexes = normalized_data < 3\n",
    "        processed_train = train.loc[indexes, :]\n",
    "    \n",
    "    return processed_train"
   ]
  },
  {
   "cell_type": "code",
   "execution_count": 9,
   "metadata": {},
   "outputs": [],
   "source": [
    "processed_train = preprocessing_pipeline(train)"
   ]
  },
  {
   "cell_type": "code",
   "execution_count": 10,
   "metadata": {},
   "outputs": [
    {
     "data": {
      "text/html": [
       "<div>\n",
       "<style scoped>\n",
       "    .dataframe tbody tr th:only-of-type {\n",
       "        vertical-align: middle;\n",
       "    }\n",
       "\n",
       "    .dataframe tbody tr th {\n",
       "        vertical-align: top;\n",
       "    }\n",
       "\n",
       "    .dataframe thead th {\n",
       "        text-align: right;\n",
       "    }\n",
       "</style>\n",
       "<table border=\"1\" class=\"dataframe\">\n",
       "  <thead>\n",
       "    <tr style=\"text-align: right;\">\n",
       "      <th></th>\n",
       "      <th>Id</th>\n",
       "      <th>fixed acidity</th>\n",
       "      <th>volatile acidity</th>\n",
       "      <th>citric acid</th>\n",
       "      <th>residual sugar</th>\n",
       "      <th>chlorides</th>\n",
       "      <th>free sulfur dioxide</th>\n",
       "      <th>total sulfur dioxide</th>\n",
       "      <th>density</th>\n",
       "      <th>pH</th>\n",
       "      <th>sulphates</th>\n",
       "      <th>alcohol</th>\n",
       "      <th>quality</th>\n",
       "    </tr>\n",
       "  </thead>\n",
       "  <tbody>\n",
       "    <tr>\n",
       "      <th>count</th>\n",
       "      <td>1104.000000</td>\n",
       "      <td>1104.000000</td>\n",
       "      <td>1104.000000</td>\n",
       "      <td>1104.000000</td>\n",
       "      <td>1104.000000</td>\n",
       "      <td>1104.000000</td>\n",
       "      <td>1104.000000</td>\n",
       "      <td>1104.000000</td>\n",
       "      <td>1104.000000</td>\n",
       "      <td>1104.000000</td>\n",
       "      <td>1104.000000</td>\n",
       "      <td>1104.000000</td>\n",
       "      <td>1104.000000</td>\n",
       "    </tr>\n",
       "    <tr>\n",
       "      <th>mean</th>\n",
       "      <td>558.989130</td>\n",
       "      <td>8.327446</td>\n",
       "      <td>0.531943</td>\n",
       "      <td>0.270444</td>\n",
       "      <td>2.538451</td>\n",
       "      <td>0.087760</td>\n",
       "      <td>15.889946</td>\n",
       "      <td>46.425725</td>\n",
       "      <td>0.996784</td>\n",
       "      <td>3.312147</td>\n",
       "      <td>0.656821</td>\n",
       "      <td>10.416244</td>\n",
       "      <td>5.633152</td>\n",
       "    </tr>\n",
       "    <tr>\n",
       "      <th>std</th>\n",
       "      <td>323.789428</td>\n",
       "      <td>1.749430</td>\n",
       "      <td>0.180609</td>\n",
       "      <td>0.194891</td>\n",
       "      <td>1.286773</td>\n",
       "      <td>0.046592</td>\n",
       "      <td>10.358023</td>\n",
       "      <td>33.139474</td>\n",
       "      <td>0.001891</td>\n",
       "      <td>0.155899</td>\n",
       "      <td>0.166352</td>\n",
       "      <td>1.068044</td>\n",
       "      <td>0.805931</td>\n",
       "    </tr>\n",
       "    <tr>\n",
       "      <th>min</th>\n",
       "      <td>0.000000</td>\n",
       "      <td>4.600000</td>\n",
       "      <td>0.120000</td>\n",
       "      <td>0.000000</td>\n",
       "      <td>0.900000</td>\n",
       "      <td>0.012000</td>\n",
       "      <td>1.000000</td>\n",
       "      <td>6.000000</td>\n",
       "      <td>0.990070</td>\n",
       "      <td>2.740000</td>\n",
       "      <td>0.330000</td>\n",
       "      <td>8.400000</td>\n",
       "      <td>3.000000</td>\n",
       "    </tr>\n",
       "    <tr>\n",
       "      <th>25%</th>\n",
       "      <td>278.750000</td>\n",
       "      <td>7.100000</td>\n",
       "      <td>0.400000</td>\n",
       "      <td>0.097500</td>\n",
       "      <td>1.900000</td>\n",
       "      <td>0.070000</td>\n",
       "      <td>7.000000</td>\n",
       "      <td>22.000000</td>\n",
       "      <td>0.995697</td>\n",
       "      <td>3.210000</td>\n",
       "      <td>0.550000</td>\n",
       "      <td>9.500000</td>\n",
       "      <td>5.000000</td>\n",
       "    </tr>\n",
       "    <tr>\n",
       "      <th>50%</th>\n",
       "      <td>557.500000</td>\n",
       "      <td>7.900000</td>\n",
       "      <td>0.520000</td>\n",
       "      <td>0.260000</td>\n",
       "      <td>2.200000</td>\n",
       "      <td>0.080000</td>\n",
       "      <td>14.000000</td>\n",
       "      <td>38.000000</td>\n",
       "      <td>0.996790</td>\n",
       "      <td>3.310000</td>\n",
       "      <td>0.620000</td>\n",
       "      <td>10.100000</td>\n",
       "      <td>6.000000</td>\n",
       "    </tr>\n",
       "    <tr>\n",
       "      <th>75%</th>\n",
       "      <td>840.250000</td>\n",
       "      <td>9.200000</td>\n",
       "      <td>0.640000</td>\n",
       "      <td>0.430000</td>\n",
       "      <td>2.600000</td>\n",
       "      <td>0.091000</td>\n",
       "      <td>22.000000</td>\n",
       "      <td>61.000000</td>\n",
       "      <td>0.997885</td>\n",
       "      <td>3.402500</td>\n",
       "      <td>0.730000</td>\n",
       "      <td>11.100000</td>\n",
       "      <td>6.000000</td>\n",
       "    </tr>\n",
       "    <tr>\n",
       "      <th>max</th>\n",
       "      <td>1118.000000</td>\n",
       "      <td>15.900000</td>\n",
       "      <td>1.580000</td>\n",
       "      <td>1.000000</td>\n",
       "      <td>15.400000</td>\n",
       "      <td>0.611000</td>\n",
       "      <td>68.000000</td>\n",
       "      <td>289.000000</td>\n",
       "      <td>1.003690</td>\n",
       "      <td>4.010000</td>\n",
       "      <td>2.000000</td>\n",
       "      <td>14.900000</td>\n",
       "      <td>8.000000</td>\n",
       "    </tr>\n",
       "  </tbody>\n",
       "</table>\n",
       "</div>"
      ],
      "text/plain": [
       "                Id  fixed acidity  volatile acidity  citric acid  \\\n",
       "count  1104.000000    1104.000000       1104.000000  1104.000000   \n",
       "mean    558.989130       8.327446          0.531943     0.270444   \n",
       "std     323.789428       1.749430          0.180609     0.194891   \n",
       "min       0.000000       4.600000          0.120000     0.000000   \n",
       "25%     278.750000       7.100000          0.400000     0.097500   \n",
       "50%     557.500000       7.900000          0.520000     0.260000   \n",
       "75%     840.250000       9.200000          0.640000     0.430000   \n",
       "max    1118.000000      15.900000          1.580000     1.000000   \n",
       "\n",
       "       residual sugar    chlorides  free sulfur dioxide  total sulfur dioxide  \\\n",
       "count     1104.000000  1104.000000          1104.000000           1104.000000   \n",
       "mean         2.538451     0.087760            15.889946             46.425725   \n",
       "std          1.286773     0.046592            10.358023             33.139474   \n",
       "min          0.900000     0.012000             1.000000              6.000000   \n",
       "25%          1.900000     0.070000             7.000000             22.000000   \n",
       "50%          2.200000     0.080000            14.000000             38.000000   \n",
       "75%          2.600000     0.091000            22.000000             61.000000   \n",
       "max         15.400000     0.611000            68.000000            289.000000   \n",
       "\n",
       "           density           pH    sulphates      alcohol      quality  \n",
       "count  1104.000000  1104.000000  1104.000000  1104.000000  1104.000000  \n",
       "mean      0.996784     3.312147     0.656821    10.416244     5.633152  \n",
       "std       0.001891     0.155899     0.166352     1.068044     0.805931  \n",
       "min       0.990070     2.740000     0.330000     8.400000     3.000000  \n",
       "25%       0.995697     3.210000     0.550000     9.500000     5.000000  \n",
       "50%       0.996790     3.310000     0.620000    10.100000     6.000000  \n",
       "75%       0.997885     3.402500     0.730000    11.100000     6.000000  \n",
       "max       1.003690     4.010000     2.000000    14.900000     8.000000  "
      ]
     },
     "execution_count": 10,
     "metadata": {},
     "output_type": "execute_result"
    }
   ],
   "source": [
    "processed_train.describe() #check that it's the same as part(a)"
   ]
  },
  {
   "cell_type": "markdown",
   "metadata": {},
   "source": [
    "b. Implement a function that takes in the R<sup>2</sup> of a regression and return the VIF value. "
   ]
  },
  {
   "cell_type": "code",
   "execution_count": 11,
   "metadata": {},
   "outputs": [],
   "source": [
    "def calculate_vif(r_squared):\n",
    "    ## Your code goes here\n",
    "    vif = 1/(1-r_squared)\n",
    "    return vif"
   ]
  },
  {
   "cell_type": "markdown",
   "metadata": {},
   "source": [
    "c. Implement a function that takes in preprocessed data and returns a dataframe that contains the VIF for each variable. The dataframe should contain two columns: variable names and their VIFs."
   ]
  },
  {
   "cell_type": "code",
   "execution_count": 54,
   "metadata": {},
   "outputs": [],
   "source": [
    "import statsmodels.api as sm\n",
    "\n",
    "def generate_vif_dataframe(processed_train):\n",
    "    ## Your code goes here\n",
    "    data = []\n",
    "    for X in processed_train:\n",
    "        X_list = []\n",
    "        X_list.append(X)\n",
    "        i = processed_train.columns.get_loc(X)\n",
    "        reg_list = [] #contains all other variables for regression against X\n",
    "        for j in range(len(processed_train.columns)):\n",
    "            if j != i :\n",
    "                reg_list.append(processed_train.columns[j])\n",
    "        model = sm.OLS(processed_train[X], sm.add_constant(processed_train[reg_list])).fit()\n",
    "        rsq = model.rsquared\n",
    "        vif = calculate_vif(rsq)\n",
    "        X_list.append(vif)\n",
    "        data.append(X_list)\n",
    "        \n",
    "    vif_dataframe = pd.DataFrame(data, columns = ['Variable name','VIF'])\n",
    "                                \n",
    "    return vif_dataframe"
   ]
  },
  {
   "cell_type": "markdown",
   "metadata": {},
   "source": [
    "d. Use the functions that you developed from Q1 and generate a VIF dataframe for all the variables in the wine dataset. Discuss the VIF values you find and the effect of multicollinearity on regression models."
   ]
  },
  {
   "cell_type": "code",
   "execution_count": 57,
   "metadata": {},
   "outputs": [
    {
     "data": {
      "text/html": [
       "<div>\n",
       "<style scoped>\n",
       "    .dataframe tbody tr th:only-of-type {\n",
       "        vertical-align: middle;\n",
       "    }\n",
       "\n",
       "    .dataframe tbody tr th {\n",
       "        vertical-align: top;\n",
       "    }\n",
       "\n",
       "    .dataframe thead th {\n",
       "        text-align: right;\n",
       "    }\n",
       "</style>\n",
       "<table border=\"1\" class=\"dataframe\">\n",
       "  <thead>\n",
       "    <tr style=\"text-align: right;\">\n",
       "      <th></th>\n",
       "      <th>Variable name</th>\n",
       "      <th>VIF</th>\n",
       "    </tr>\n",
       "  </thead>\n",
       "  <tbody>\n",
       "    <tr>\n",
       "      <th>0</th>\n",
       "      <td>fixed acidity</td>\n",
       "      <td>7.718711</td>\n",
       "    </tr>\n",
       "    <tr>\n",
       "      <th>1</th>\n",
       "      <td>volatile acidity</td>\n",
       "      <td>1.782956</td>\n",
       "    </tr>\n",
       "    <tr>\n",
       "      <th>2</th>\n",
       "      <td>citric acid</td>\n",
       "      <td>3.159279</td>\n",
       "    </tr>\n",
       "    <tr>\n",
       "      <th>3</th>\n",
       "      <td>residual sugar</td>\n",
       "      <td>1.702938</td>\n",
       "    </tr>\n",
       "    <tr>\n",
       "      <th>4</th>\n",
       "      <td>chlorides</td>\n",
       "      <td>1.513004</td>\n",
       "    </tr>\n",
       "    <tr>\n",
       "      <th>5</th>\n",
       "      <td>free sulfur dioxide</td>\n",
       "      <td>1.971999</td>\n",
       "    </tr>\n",
       "    <tr>\n",
       "      <th>6</th>\n",
       "      <td>total sulfur dioxide</td>\n",
       "      <td>2.182210</td>\n",
       "    </tr>\n",
       "    <tr>\n",
       "      <th>7</th>\n",
       "      <td>density</td>\n",
       "      <td>6.147005</td>\n",
       "    </tr>\n",
       "    <tr>\n",
       "      <th>8</th>\n",
       "      <td>pH</td>\n",
       "      <td>3.388611</td>\n",
       "    </tr>\n",
       "    <tr>\n",
       "      <th>9</th>\n",
       "      <td>sulphates</td>\n",
       "      <td>1.415035</td>\n",
       "    </tr>\n",
       "    <tr>\n",
       "      <th>10</th>\n",
       "      <td>alcohol</td>\n",
       "      <td>3.022363</td>\n",
       "    </tr>\n",
       "  </tbody>\n",
       "</table>\n",
       "</div>"
      ],
      "text/plain": [
       "           Variable name       VIF\n",
       "0          fixed acidity  7.718711\n",
       "1       volatile acidity  1.782956\n",
       "2            citric acid  3.159279\n",
       "3         residual sugar  1.702938\n",
       "4              chlorides  1.513004\n",
       "5    free sulfur dioxide  1.971999\n",
       "6   total sulfur dioxide  2.182210\n",
       "7                density  6.147005\n",
       "8                     pH  3.388611\n",
       "9              sulphates  1.415035\n",
       "10               alcohol  3.022363"
      ]
     },
     "execution_count": 57,
     "metadata": {},
     "output_type": "execute_result"
    }
   ],
   "source": [
    "## Your code goes here\n",
    "features_only = processed_train.loc[:, 'fixed acidity':'alcohol']\n",
    "vif_dataframe = generate_vif_dataframe(features_only)\n",
    "vif_dataframe"
   ]
  },
  {
   "cell_type": "code",
   "execution_count": 89,
   "metadata": {},
   "outputs": [],
   "source": [
    "from statsmodels.stats.outliers_influence import variance_inflation_factor"
   ]
  },
  {
   "cell_type": "code",
   "execution_count": 90,
   "metadata": {
    "scrolled": true
   },
   "outputs": [
    {
     "data": {
      "text/plain": [
       "const                   1.650420e+06\n",
       "fixed acidity           7.718711e+00\n",
       "volatile acidity        1.782956e+00\n",
       "citric acid             3.159279e+00\n",
       "residual sugar          1.702938e+00\n",
       "chlorides               1.513004e+00\n",
       "free sulfur dioxide     1.971999e+00\n",
       "total sulfur dioxide    2.182210e+00\n",
       "density                 6.147005e+00\n",
       "pH                      3.388611e+00\n",
       "sulphates               1.415035e+00\n",
       "alcohol                 3.022363e+00\n",
       "dtype: float64"
      ]
     },
     "execution_count": 90,
     "metadata": {},
     "output_type": "execute_result"
    }
   ],
   "source": [
    "#TEST (check if VIFs are correct)\n",
    "X = sm.add_constant(features_only)\n",
    "pd.Series([variance_inflation_factor(X.values, i) \n",
    "               for i in range(X.shape[1])], \n",
    "              index=X.columns)"
   ]
  },
  {
   "cell_type": "markdown",
   "metadata": {},
   "source": [
    "## Your discussion goes here\n",
    "The variables fixed acidity and density have the highest VIF scores, suggesting that they are the most highly correlated with the other variables. Including multicollinear variables unnecessarily complicates the model and is misleading in terms of determining which factors actually affect wine quality."
   ]
  },
  {
   "cell_type": "markdown",
   "metadata": {},
   "source": [
    "#### Q2 (4 points)"
   ]
  },
  {
   "cell_type": "markdown",
   "metadata": {},
   "source": [
    "a. Use the VIF dataframe you generated from Q1 and choose a subset of variables that does not have high multicollinearity."
   ]
  },
  {
   "cell_type": "code",
   "execution_count": 250,
   "metadata": {},
   "outputs": [],
   "source": [
    "## Your code goes here\n",
    "#volatile acidity, residual sugar, chlorides, sulphates\n",
    "X = processed_train[[\"volatile acidity\", \"residual sugar\", \"chlorides\", \"sulphates\", \"alcohol\"]]\n",
    "#X = processed_train[[\"volatile acidity\", \"chlorides\", \"sulphates\", \"total sulfur dioxide\", \"alcohol\"]]\n",
    "y = processed_train[\"quality\"]"
   ]
  },
  {
   "cell_type": "markdown",
   "metadata": {},
   "source": [
    "b. Fit a multiple linear regression model and print a summary of the regression result."
   ]
  },
  {
   "cell_type": "code",
   "execution_count": 251,
   "metadata": {},
   "outputs": [
    {
     "data": {
      "text/html": [
       "<table class=\"simpletable\">\n",
       "<caption>OLS Regression Results</caption>\n",
       "<tr>\n",
       "  <th>Dep. Variable:</th>         <td>quality</td>     <th>  R-squared:         </th> <td>   0.356</td> \n",
       "</tr>\n",
       "<tr>\n",
       "  <th>Model:</th>                   <td>OLS</td>       <th>  Adj. R-squared:    </th> <td>   0.353</td> \n",
       "</tr>\n",
       "<tr>\n",
       "  <th>Method:</th>             <td>Least Squares</td>  <th>  F-statistic:       </th> <td>   121.2</td> \n",
       "</tr>\n",
       "<tr>\n",
       "  <th>Date:</th>             <td>Fri, 14 Feb 2020</td> <th>  Prob (F-statistic):</th> <td>3.41e-102</td>\n",
       "</tr>\n",
       "<tr>\n",
       "  <th>Time:</th>                 <td>21:25:53</td>     <th>  Log-Likelihood:    </th> <td> -1085.2</td> \n",
       "</tr>\n",
       "<tr>\n",
       "  <th>No. Observations:</th>      <td>  1104</td>      <th>  AIC:               </th> <td>   2182.</td> \n",
       "</tr>\n",
       "<tr>\n",
       "  <th>Df Residuals:</th>          <td>  1098</td>      <th>  BIC:               </th> <td>   2212.</td> \n",
       "</tr>\n",
       "<tr>\n",
       "  <th>Df Model:</th>              <td>     5</td>      <th>                     </th>     <td> </td>    \n",
       "</tr>\n",
       "<tr>\n",
       "  <th>Covariance Type:</th>      <td>nonrobust</td>    <th>                     </th>     <td> </td>    \n",
       "</tr>\n",
       "</table>\n",
       "<table class=\"simpletable\">\n",
       "<tr>\n",
       "          <td></td>            <th>coef</th>     <th>std err</th>      <th>t</th>      <th>P>|t|</th>  <th>[0.025</th>    <th>0.975]</th>  \n",
       "</tr>\n",
       "<tr>\n",
       "  <th>const</th>            <td>    2.6965</td> <td>    0.235</td> <td>   11.493</td> <td> 0.000</td> <td>    2.236</td> <td>    3.157</td>\n",
       "</tr>\n",
       "<tr>\n",
       "  <th>volatile acidity</th> <td>   -1.1816</td> <td>    0.114</td> <td>  -10.357</td> <td> 0.000</td> <td>   -1.406</td> <td>   -0.958</td>\n",
       "</tr>\n",
       "<tr>\n",
       "  <th>residual sugar</th>   <td>    0.0085</td> <td>    0.015</td> <td>    0.558</td> <td> 0.577</td> <td>   -0.021</td> <td>    0.039</td>\n",
       "</tr>\n",
       "<tr>\n",
       "  <th>chlorides</th>        <td>   -1.8633</td> <td>    0.479</td> <td>   -3.887</td> <td> 0.000</td> <td>   -2.804</td> <td>   -0.923</td>\n",
       "</tr>\n",
       "<tr>\n",
       "  <th>sulphates</th>        <td>    0.8997</td> <td>    0.135</td> <td>    6.682</td> <td> 0.000</td> <td>    0.635</td> <td>    1.164</td>\n",
       "</tr>\n",
       "<tr>\n",
       "  <th>alcohol</th>          <td>    0.2992</td> <td>    0.019</td> <td>   15.491</td> <td> 0.000</td> <td>    0.261</td> <td>    0.337</td>\n",
       "</tr>\n",
       "</table>\n",
       "<table class=\"simpletable\">\n",
       "<tr>\n",
       "  <th>Omnibus:</th>       <td> 9.105</td> <th>  Durbin-Watson:     </th> <td>   2.024</td>\n",
       "</tr>\n",
       "<tr>\n",
       "  <th>Prob(Omnibus):</th> <td> 0.011</td> <th>  Jarque-Bera (JB):  </th> <td>  12.980</td>\n",
       "</tr>\n",
       "<tr>\n",
       "  <th>Skew:</th>          <td>-0.007</td> <th>  Prob(JB):          </th> <td> 0.00152</td>\n",
       "</tr>\n",
       "<tr>\n",
       "  <th>Kurtosis:</th>      <td> 3.531</td> <th>  Cond. No.          </th> <td>    270.</td>\n",
       "</tr>\n",
       "</table><br/><br/>Warnings:<br/>[1] Standard Errors assume that the covariance matrix of the errors is correctly specified."
      ],
      "text/plain": [
       "<class 'statsmodels.iolib.summary.Summary'>\n",
       "\"\"\"\n",
       "                            OLS Regression Results                            \n",
       "==============================================================================\n",
       "Dep. Variable:                quality   R-squared:                       0.356\n",
       "Model:                            OLS   Adj. R-squared:                  0.353\n",
       "Method:                 Least Squares   F-statistic:                     121.2\n",
       "Date:                Fri, 14 Feb 2020   Prob (F-statistic):          3.41e-102\n",
       "Time:                        21:25:53   Log-Likelihood:                -1085.2\n",
       "No. Observations:                1104   AIC:                             2182.\n",
       "Df Residuals:                    1098   BIC:                             2212.\n",
       "Df Model:                           5                                         \n",
       "Covariance Type:            nonrobust                                         \n",
       "====================================================================================\n",
       "                       coef    std err          t      P>|t|      [0.025      0.975]\n",
       "------------------------------------------------------------------------------------\n",
       "const                2.6965      0.235     11.493      0.000       2.236       3.157\n",
       "volatile acidity    -1.1816      0.114    -10.357      0.000      -1.406      -0.958\n",
       "residual sugar       0.0085      0.015      0.558      0.577      -0.021       0.039\n",
       "chlorides           -1.8633      0.479     -3.887      0.000      -2.804      -0.923\n",
       "sulphates            0.8997      0.135      6.682      0.000       0.635       1.164\n",
       "alcohol              0.2992      0.019     15.491      0.000       0.261       0.337\n",
       "==============================================================================\n",
       "Omnibus:                        9.105   Durbin-Watson:                   2.024\n",
       "Prob(Omnibus):                  0.011   Jarque-Bera (JB):               12.980\n",
       "Skew:                          -0.007   Prob(JB):                      0.00152\n",
       "Kurtosis:                       3.531   Cond. No.                         270.\n",
       "==============================================================================\n",
       "\n",
       "Warnings:\n",
       "[1] Standard Errors assume that the covariance matrix of the errors is correctly specified.\n",
       "\"\"\""
      ]
     },
     "execution_count": 251,
     "metadata": {},
     "output_type": "execute_result"
    }
   ],
   "source": [
    "## Your code goes here\n",
    "model_2b = sm.OLS(y, sm.add_constant(X)).fit()\n",
    "model_2b.summary()"
   ]
  },
  {
   "cell_type": "markdown",
   "metadata": {},
   "source": [
    "c. Use 5-fold cross validation to validate the mean squared error (MSE) of a multiple linear regression model fit to the subset of data. (HINT: You will need to implement a function to calculate the MSE. See this link for more details: https://en.wikipedia.org/wiki/Mean_squared_error)."
   ]
  },
  {
   "cell_type": "code",
   "execution_count": 195,
   "metadata": {},
   "outputs": [],
   "source": [
    "## Your code goes here\n",
    "def calc_mse(y, y_hat):\n",
    "    n = np.size(y)\n",
    "    sq_diff = (y-y_hat)**2\n",
    "    mse = np.sum(sq_diff)/n\n",
    "    return mse"
   ]
  },
  {
   "cell_type": "code",
   "execution_count": 248,
   "metadata": {},
   "outputs": [],
   "source": [
    "split_train = processed_train[[\"volatile acidity\", \"residual sugar\", \"chlorides\", \"sulphates\", \"alcohol\", \"quality\"]]\n",
    "split_train = split_train.sample(frac=1) #shuffle the data\n",
    "mult_dfs = np.array_split(split_train, 5) #split shuffled data into 5 dataframes"
   ]
  },
  {
   "cell_type": "code",
   "execution_count": 249,
   "metadata": {},
   "outputs": [
    {
     "name": "stdout",
     "output_type": "stream",
     "text": [
      "0.3627226320987194\n",
      "0.4601577305734633\n",
      "0.41220873124529245\n",
      "0.4178963336440911\n",
      "0.46617627414197654\n"
     ]
    }
   ],
   "source": [
    "for i in range(len(mult_dfs)):\n",
    "    test_df = mult_dfs[i]\n",
    "    y_actual = test_df[\"quality\"]\n",
    "    X_test = test_df.loc[:, 'volatile acidity':'alcohol']\n",
    "    #print(len(test_df.index)) = 221\n",
    "    #create list of remaining dataframes to be concatenated into the training set\n",
    "    train_list = []\n",
    "    for j in range(len(mult_dfs)):\n",
    "        if j != i:\n",
    "            train_list.append(mult_dfs[j])\n",
    "    train_df = pd.concat(train_list)\n",
    "    #print(len(train_df.index))\n",
    "    y_train = train_df[\"quality\"]\n",
    "    X_train = train_df.loc[:, 'volatile acidity':'alcohol']\n",
    "    #fit model to training data\n",
    "    model = sm.OLS(y_train, sm.add_constant(X_train)).fit()\n",
    "    #use model to predict on test data\n",
    "    y_pred = model.predict(sm.add_constant(X_test))\n",
    "    #calculate mean squared error\n",
    "    mse = calc_mse(y_actual, y_pred)\n",
    "    print(mse)"
   ]
  },
  {
   "cell_type": "markdown",
   "metadata": {},
   "source": [
    "d. Make a prediction on the test set using the model you fit in 2b and submit to Kaggle."
   ]
  },
  {
   "cell_type": "code",
   "execution_count": 197,
   "metadata": {},
   "outputs": [
    {
     "data": {
      "text/html": [
       "<div>\n",
       "<style scoped>\n",
       "    .dataframe tbody tr th:only-of-type {\n",
       "        vertical-align: middle;\n",
       "    }\n",
       "\n",
       "    .dataframe tbody tr th {\n",
       "        vertical-align: top;\n",
       "    }\n",
       "\n",
       "    .dataframe thead th {\n",
       "        text-align: right;\n",
       "    }\n",
       "</style>\n",
       "<table border=\"1\" class=\"dataframe\">\n",
       "  <thead>\n",
       "    <tr style=\"text-align: right;\">\n",
       "      <th></th>\n",
       "      <th>Id</th>\n",
       "      <th>Predicted</th>\n",
       "    </tr>\n",
       "  </thead>\n",
       "  <tbody>\n",
       "    <tr>\n",
       "      <th>0</th>\n",
       "      <td>0</td>\n",
       "      <td>5.977194</td>\n",
       "    </tr>\n",
       "    <tr>\n",
       "      <th>1</th>\n",
       "      <td>1</td>\n",
       "      <td>5.329781</td>\n",
       "    </tr>\n",
       "    <tr>\n",
       "      <th>2</th>\n",
       "      <td>2</td>\n",
       "      <td>5.314075</td>\n",
       "    </tr>\n",
       "    <tr>\n",
       "      <th>3</th>\n",
       "      <td>3</td>\n",
       "      <td>5.452076</td>\n",
       "    </tr>\n",
       "    <tr>\n",
       "      <th>4</th>\n",
       "      <td>4</td>\n",
       "      <td>5.427620</td>\n",
       "    </tr>\n",
       "  </tbody>\n",
       "</table>\n",
       "</div>"
      ],
      "text/plain": [
       "   Id  Predicted\n",
       "0   0   5.977194\n",
       "1   1   5.329781\n",
       "2   2   5.314075\n",
       "3   3   5.452076\n",
       "4   4   5.427620"
      ]
     },
     "execution_count": 197,
     "metadata": {},
     "output_type": "execute_result"
    }
   ],
   "source": [
    "## Your code goes here\n",
    "test = pd.read_csv('/Users/gracegupta/Desktop/grace_gupta_HW1/test.csv')\n",
    "test_X = test[[\"volatile acidity\", \"residual sugar\", \"chlorides\", \"sulphates\", \"alcohol\"]]\n",
    "#test_y = test[\"quality\"]\n",
    "pred = model_2b.predict(sm.add_constant(test_X))\n",
    "\n",
    "sample_submission = pd.read_csv('/Users/gracegupta/Downloads/sample_submission.csv')\n",
    "sample_submission.loc[:, 'Predicted'] = pred\n",
    "sample_submission.to_csv('hw2_submission.csv', header=True, index=False)\n",
    "sample_submission.head()"
   ]
  },
  {
   "cell_type": "markdown",
   "metadata": {},
   "source": [
    "e. Compare the Kaggle score and the cross-validation result. Is the cross-validation result a good representation of the prediction accuracy on the test data?"
   ]
  },
  {
   "cell_type": "code",
   "execution_count": null,
   "metadata": {},
   "outputs": [],
   "source": [
    "## Your discussion here"
   ]
  },
  {
   "cell_type": "markdown",
   "metadata": {},
   "source": [
    "f. Discuss the difference between goodness of fit on the training set, on the validation set, and on the test set."
   ]
  },
  {
   "cell_type": "code",
   "execution_count": null,
   "metadata": {},
   "outputs": [],
   "source": [
    "## Your discussion here"
   ]
  }
 ],
 "metadata": {
  "kernelspec": {
   "display_name": "Python 3",
   "language": "python",
   "name": "python3"
  },
  "language_info": {
   "codemirror_mode": {
    "name": "ipython",
    "version": 3
   },
   "file_extension": ".py",
   "mimetype": "text/x-python",
   "name": "python",
   "nbconvert_exporter": "python",
   "pygments_lexer": "ipython3",
   "version": "3.6.8"
  }
 },
 "nbformat": 4,
 "nbformat_minor": 2
}
